{
 "cells": [
  {
   "metadata": {
    "ExecuteTime": {
     "end_time": "2025-05-02T10:59:30.961782Z",
     "start_time": "2025-05-02T10:59:30.954923Z"
    }
   },
   "cell_type": "code",
   "source": [
    "import shutil\n",
    "source = \"database/hotel_reservation_sample.db\"\n",
    "db_file = \"database/working_db.db\"\n",
    "shutil.copyfile(source, db_file) #Copy original DB first to always start fresh."
   ],
   "id": "e7b660ed34e76724",
   "outputs": [
    {
     "data": {
      "text/plain": [
       "'database/working_db.db'"
      ]
     },
     "execution_count": 4,
     "metadata": {},
     "output_type": "execute_result"
    }
   ],
   "execution_count": 4
  },
  {
   "metadata": {
    "ExecuteTime": {
     "end_time": "2025-05-02T10:59:30.973801Z",
     "start_time": "2025-05-02T10:59:30.970891Z"
    }
   },
   "cell_type": "code",
   "source": "",
   "id": "bce6fe263313bb90",
   "outputs": [],
   "execution_count": null
  }
 ],
 "metadata": {
  "kernelspec": {
   "display_name": "Python 3",
   "language": "python",
   "name": "python3"
  },
  "language_info": {
   "codemirror_mode": {
    "name": "ipython",
    "version": 2
   },
   "file_extension": ".py",
   "mimetype": "text/x-python",
   "name": "python",
   "nbconvert_exporter": "python",
   "pygments_lexer": "ipython2",
   "version": "2.7.6"
  }
 },
 "nbformat": 4,
 "nbformat_minor": 5
}
