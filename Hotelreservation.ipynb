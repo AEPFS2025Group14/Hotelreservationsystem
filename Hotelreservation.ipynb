{
 "cells": [
  {
   "metadata": {
    "ExecuteTime": {
     "end_time": "2025-05-02T10:59:30.961782Z",
     "start_time": "2025-05-02T10:59:30.954923Z"
    }
   },
   "cell_type": "code",
   "source": [
    "import shutil\n",
    "source = \"database/hotel_reservation_sample.db\"\n",
    "db_file = \"database/working_db.db\"\n",
    "shutil.copyfile(source, db_file) #Copy original DB first to always start fresh."
   ],
   "id": "e7b660ed34e76724",
   "outputs": [
    {
     "data": {
      "text/plain": [
       "'database/working_db.db'"
      ]
     },
     "execution_count": 4,
     "metadata": {},
     "output_type": "execute_result"
    }
   ],
   "execution_count": 4
  },
  {
   "metadata": {
    "ExecuteTime": {
     "end_time": "2025-05-02T10:59:30.973801Z",
     "start_time": "2025-05-02T10:59:30.970891Z"
    }
   },
   "cell_type": "code",
   "source": [
    "import sqlite3\n",
    "import pandas as pd\n",
    "import matplotlib.pyplot as plt\n",
    "\n",
    "conn = sqlite3.connect(\"database/hotel_reservation_sample.db\")\n",
    "\n",
    "query = \"\"\"\n",
    "SELECT rt.description AS room_type, COUNT(*) AS total_bookings\n",
    "FROM Booking b\n",
    "JOIN Room r ON b.room_id = r.room_id\n",
    "JOIN Room_Type rt ON r.type_id = rt.type_id\n",
    "WHERE b.is_cancelled = 0\n",
    "GROUP BY rt.description\n",
    "\"\"\"\n",
    "\n",
    "df = pd.read_sql_query(query, conn)\n",
    "conn.close()\n",
    "\n",
    "# Visualisierung\n",
    "df.plot(kind=\"bar\", x=\"room_type\", y=\"total_bookings\", legend=False, title=\"Beliebtheit der Zimmertypen\")\n",
    "plt.ylabel(\"Buchungen\")\n",
    "plt.xlabel(\"Zimmertyp\")\n",
    "plt.xticks(rotation=45)\n",
    "plt.tight_layout()\n",
    "plt.show()\n",
    "\n",
    "import sqlite3\n",
    "import pandas as pd\n",
    "import matplotlib.pyplot as plt\n",
    "\n",
    "conn = sqlite3.connect(\"database/hotel_reservation_sample.db\")\n",
    "\n",
    "query = \"\"\"\n",
    "SELECT strftime('%Y-%m', check_in_date) AS month, SUM(total_amount) AS revenue\n",
    "FROM Booking\n",
    "WHERE is_cancelled = 0\n",
    "GROUP BY month\n",
    "ORDER BY month\n",
    "\"\"\"\n",
    "df = pd.read_sql_query(query, conn)\n",
    "conn.close()\n",
    "\n",
    "df.plot(kind=\"line\", x=\"month\", y=\"revenue\", marker='o', title=\"Revenue Trend\")\n",
    "plt.ylabel(\"CHF\")\n",
    "plt.xlabel(\"Monat\")\n",
    "plt.grid(True)\n",
    "plt.tight_layout()\n",
    "plt.show()\n",
    "\n",
    "conn = sqlite3.connect(\"database/hotel_reservation_sample.db\")\n",
    "\n",
    "query = \"\"\"\n",
    "SELECT AVG(alter) AS avg_age FROM Guest\n",
    "\"\"\"\n",
    "df = pd.read_sql_query(query, conn)\n",
    "conn.close()\n",
    "\n",
    "print(\"Durchschnittsalter der Gäste:\", round(df['avg_age'][0], 1))\n"
   ],
   "id": "bce6fe263313bb90",
   "outputs": [],
   "execution_count": null
  }
 ],
 "metadata": {
  "kernelspec": {
   "display_name": "Python 3",
   "language": "python",
   "name": "python3"
  },
  "language_info": {
   "codemirror_mode": {
    "name": "ipython",
    "version": 2
   },
   "file_extension": ".py",
   "mimetype": "text/x-python",
   "name": "python",
   "nbconvert_exporter": "python",
   "pygments_lexer": "ipython2",
   "version": "2.7.6"
  }
 },
 "nbformat": 4,
 "nbformat_minor": 5
}
